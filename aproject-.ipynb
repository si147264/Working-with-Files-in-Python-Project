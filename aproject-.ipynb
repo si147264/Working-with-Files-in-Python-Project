{
 "cells": [
  {
   "cell_type": "code",
   "execution_count": 11,
   "id": "dfe555b8-dc1f-493e-89e2-e7c70bad2a7f",
   "metadata": {},
   "outputs": [
    {
     "name": "stdout",
     "output_type": "stream",
     "text": [
      "['Ephesus (Ancient Greek: Ephesos) was an ancient Greek city located on the west coast of Anatolia']\n",
      "[\"within the borders of the Selçuk district of today's İzmir province\", ' and later became an important Roman city']\n",
      "['It was one of the twelve cities of Ionia in the classical Greek era. Its foundation dates back to the Polished Stone Age 6000 BC']\n",
      "['Included in the World Heritage Tentative List by UNESCO in 1994', ' Ephesus was registered as a World Heritage Site in 2015']\n",
      "['Since Ephesus has been displaced many times throughout its history', ' its ruins are spread over a wide area of approximately 8 kilometers']\n",
      "['The ruins in four main regions', ' namely Ayasuluk Hill Artemision Ephesus and Selçuk are visited by an average of 1.5 million tourists a year']\n",
      "['The main structures and artifacts in Ephesus the first city made entirely of marble', ' are explained below']\n",
      "['Ephesus is worth to seeing']\n",
      "['Do not miss out this opportunity']\n"
     ]
    },
    {
     "name": "stdin",
     "output_type": "stream",
     "text": [
      "Bitte wahlen ein wort ephesus\n"
     ]
    },
    {
     "name": "stdout",
     "output_type": "stream",
     "text": [
      "{'ephesus': 6}\n",
      "\n",
      "1.Ephesus (Ancient Greek: Ephesos) was an ancient Greek city located on the west coast of Anatolia\n",
      "\n",
      "2.within the borders of the Selçuk district of today's İzmir province, and later became an important Roman city\n",
      "\n",
      "3.It was one of the twelve cities of Ionia in the classical Greek era. Its foundation dates back to the Polished Stone Age 6000 BC\n",
      "\n",
      "4.Included in the World Heritage Tentative List by UNESCO in 1994, Ephesus was registered as a World Heritage Site in 2015\n",
      "\n",
      "5.Since Ephesus has been displaced many times throughout its history, its ruins are spread over a wide area of approximately 8 kilometers\n",
      "\n",
      "6.The ruins in four main regions, namely Ayasuluk Hill Artemision Ephesus and Selçuk are visited by an average of 1.5 million tourists a year\n",
      "\n",
      "7.The main structures and artifacts in Ephesus the first city made entirely of marble, are explained below\n",
      "\n",
      "8.Ephesus is worth to seeing\n",
      "\n",
      "9.Do not miss out this opportunity\n",
      "\n"
     ]
    }
   ],
   "source": [
    "filet=\"Ubung.txt\"\n",
    "datei=[\n",
    " \"Ephesus (Ancient Greek: Ephesos) was an ancient Greek city located on the west coast of Anatolia\", \n",
    " \"within the borders of the Selçuk district of today's İzmir province, and later became an important Roman city\",\n",
    " \"It was one of the twelve cities of Ionia in the classical Greek era. Its foundation dates back to the Polished Stone Age 6000 BC\",\n",
    " \"Included in the World Heritage Tentative List by UNESCO in 1994, Ephesus was registered as a World Heritage Site in 2015\",\n",
    " \"Since Ephesus has been displaced many times throughout its history, its ruins are spread over a wide area of approximately 8 kilometers\",\n",
    " \"The ruins in four main regions, namely Ayasuluk Hill Artemision Ephesus and Selçuk are visited by an average of 1.5 million tourists a year\",\n",
    " \"The main structures and artifacts in Ephesus the first city made entirely of marble, are explained below\",\n",
    "  \"Ephesus is worth to seeing\",\n",
    "  \"Do not miss out this opportunity\"\n",
    "   ]\n",
    "with open(filet,\"w\",newline=\"\",encoding=\"utf-8\") as ein_filet:\n",
    "    for satzglied  in datei:\n",
    "      ein_filet.write(satzglied+\"\\n\")\n",
    "      \n",
    "list=[]   \n",
    "with open(filet,\"r\",encoding=\"utf-8\") as deine_filet:\n",
    "     deine_filet1=deine_filet.readlines()\n",
    "     for satzglied in deine_filet1:\n",
    "        datei1=satzglied.strip().split(\",\")\n",
    "        print( datei1)\n",
    "def wort_nummer1():\n",
    "\n",
    " wort=input(\"Bitte wahlen ein wort\")\n",
    " wort_nummer={}\n",
    " for linie in deine_filet1: \n",
    "    for w in linie.split():\n",
    "     w=w.lower()\n",
    "     if w  == wort.lower():\n",
    "       if w in wort_nummer:\n",
    "         wort_nummer[w]+=1\n",
    "        \n",
    "       else:\n",
    "         wort_nummer[w]=1\n",
    " return wort_nummer\n",
    "die_folge=wort_nummer1()\n",
    "print(die_folge)\n",
    "print()\n",
    "\n",
    "zahler=0\n",
    "filet1=\"output.txt\"\n",
    "with open(filet1,\"w\",newline=\"\",encoding=\"utf-8\") as neu_filet:\n",
    "    for satzglied in datei:\n",
    "        zahler+=1\n",
    "        neu_filet.write(f\"{zahler}.{satzglied}\\n\")\n",
    "        \n",
    "\n",
    "with open(filet1,\"r\",newline=\"\",encoding=\"utf-8\")as neu_filet:\n",
    "    \n",
    "    for satzglied in  neu_filet:\n",
    "        print(satzglied)"
   ]
  },
  {
   "cell_type": "code",
   "execution_count": null,
   "id": "10a870ee-40bc-47aa-aeaf-e817aed53fc2",
   "metadata": {},
   "outputs": [],
   "source": []
  }
 ],
 "metadata": {
  "kernelspec": {
   "display_name": "Python 3 (ipykernel)",
   "language": "python",
   "name": "python3"
  },
  "language_info": {
   "codemirror_mode": {
    "name": "ipython",
    "version": 3
   },
   "file_extension": ".py",
   "mimetype": "text/x-python",
   "name": "python",
   "nbconvert_exporter": "python",
   "pygments_lexer": "ipython3",
   "version": "3.12.4"
  }
 },
 "nbformat": 4,
 "nbformat_minor": 5
}
